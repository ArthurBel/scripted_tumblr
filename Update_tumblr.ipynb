{
 "cells": [
  {
   "cell_type": "code",
   "execution_count": null,
   "metadata": {
    "collapsed": true
   },
   "outputs": [],
   "source": [
    "import random as rd\n",
    "import os, re\n",
    "from IPython.display import Image, display\n",
    "import pytumblr"
   ]
  },
  {
   "cell_type": "markdown",
   "metadata": {},
   "source": [
    "# Load recently downloaded pictures"
   ]
  },
  {
   "cell_type": "code",
   "execution_count": null,
   "metadata": {},
   "outputs": [],
   "source": [
    "EXPR = r'\\d*_\\d*_\\d*_\\w\\.(?:jpg|png)'\n",
    "allfiles = !ls /Users/arthurb/Downloads/\n",
    "allfiles = '\\n'.join(allfiles)\n",
    "m = re.findall(EXPR, allfiles)\n",
    "dwl_imgs = ' '.join(m)\n",
    "!cd /Users/arthurb/Downloads/ && mv {dwl_imgs} /Users/arthurb/Documents/Codes/tumblr/imgs/"
   ]
  },
  {
   "cell_type": "markdown",
   "metadata": {},
   "source": [
    "# Sample N_selec pictures and check them"
   ]
  },
  {
   "cell_type": "code",
   "execution_count": null,
   "metadata": {
    "scrolled": false
   },
   "outputs": [],
   "source": [
    "N_selec = 10\n",
    "tot_imgs = !ls imgs/\n",
    "newimages = rd.sample(tot_imgs, N_selec)\n",
    "for img in newimages: display(Image(filename='imgs/%s'%img, width=200)); print img"
   ]
  },
  {
   "cell_type": "markdown",
   "metadata": {},
   "source": [
    "# Remove pictures if needed"
   ]
  },
  {
   "cell_type": "code",
   "execution_count": null,
   "metadata": {},
   "outputs": [],
   "source": [
    "list2rm = []\n",
    "for img in list2rm:\n",
    "    !rm {'./imgs/%s'%img}\n",
    "    print '%s removed'%img"
   ]
  },
  {
   "cell_type": "markdown",
   "metadata": {},
   "source": [
    "# Replace if needed"
   ]
  },
  {
   "cell_type": "code",
   "execution_count": null,
   "metadata": {
    "collapsed": true
   },
   "outputs": [],
   "source": [
    "def replace_some(list2replace, imgs, originallist):\n",
    "    newimages = rd.sample(imgs, len(list2replace))\n",
    "    ite = 0\n",
    "    while sum([f in list2replace for f in newimages]) and ite < 100:\n",
    "        newimages = rd.sample(imgs, len(list2replace)); ite += 1\n",
    "    if ite == 100:\n",
    "        print 'didnt found...'\n",
    "    else:\n",
    "        newlist = []\n",
    "        for img in originallist + newimages:\n",
    "            if img not in list2replace: newlist.append(img)\n",
    "        return newlist"
   ]
  },
  {
   "cell_type": "code",
   "execution_count": null,
   "metadata": {
    "scrolled": false
   },
   "outputs": [],
   "source": [
    "undesired = []\n",
    "newimages = replace_some(undesired, tot_imgs, newimages)\n",
    "for img in newimages: display(Image(filename='imgs/%s'%img, width=200)); print img"
   ]
  },
  {
   "cell_type": "markdown",
   "metadata": {},
   "source": [
    "# Mv into directory for publication"
   ]
  },
  {
   "cell_type": "code",
   "execution_count": null,
   "metadata": {
    "collapsed": true
   },
   "outputs": [],
   "source": [
    "for img in newimages:\n",
    "    !mv {'imgs/%s'%img} {'topublish/%s'%img}"
   ]
  },
  {
   "cell_type": "markdown",
   "metadata": {},
   "source": [
    "# Remove pictures which could have been already published"
   ]
  },
  {
   "cell_type": "code",
   "execution_count": null,
   "metadata": {
    "collapsed": true
   },
   "outputs": [],
   "source": [
    "published = !md5sum published/*\n",
    "published5sum = [a.split()[0] for a in published]\n",
    "topublish = !md5sum topublish/*\n",
    "topublish5sum = [a.split()[0] for a in topublish]\n",
    "for i,img in enumerate(topublish5sum):\n",
    "    if img in published5sum:\n",
    "        !rm {topublish[i].split()[-1]} && echo {topublish[i].split()[-1]} removed"
   ]
  },
  {
   "cell_type": "markdown",
   "metadata": {},
   "source": [
    "# Publish!"
   ]
  },
  {
   "cell_type": "code",
   "execution_count": null,
   "metadata": {
    "collapsed": true
   },
   "outputs": [],
   "source": [
    "def publish():\n",
    "    # Load personnal info\n",
    "    with open('consumer_id.cfg', 'r') as f: consumer_id = [id_.split('\\n')[0] for id_ in f.readlines()]\n",
    "    consumer_key, consumer_secret, oauth_token, oauth_secret, blog_name = consumer_id\n",
    "    # Identificate\n",
    "    client = pytumblr.TumblrRestClient(consumer_key, consumer_secret, oauth_token, oauth_secret)\n",
    "    # Request post\n",
    "    req = client.posts(blog_name)\n",
    "    # Post\n",
    "    img_path  = !ls -d $PWD/topublish/*\n",
    "    posted = client.create_photo(blog_name.split('.')[0], state=\"published\", data=img_path)\n",
    "    # Move once posted\n",
    "    published_imgs = ' '.join(img_path)\n",
    "    !mv {published_imgs} published/"
   ]
  },
  {
   "cell_type": "code",
   "execution_count": null,
   "metadata": {},
   "outputs": [],
   "source": [
    "len2pub = !ls topublish/ | wc -l\n",
    "len2pub = int(len2pub[0].split()[0])\n",
    "if len2pub == N_selec:\n",
    "    publish()"
   ]
  }
 ],
 "metadata": {
  "anaconda-cloud": {},
  "kernelspec": {
   "display_name": "Python [default]",
   "language": "python",
   "name": "python2"
  },
  "language_info": {
   "codemirror_mode": {
    "name": "ipython",
    "version": 2
   },
   "file_extension": ".py",
   "mimetype": "text/x-python",
   "name": "python",
   "nbconvert_exporter": "python",
   "pygments_lexer": "ipython2",
   "version": "2.7.13"
  }
 },
 "nbformat": 4,
 "nbformat_minor": 1
}
